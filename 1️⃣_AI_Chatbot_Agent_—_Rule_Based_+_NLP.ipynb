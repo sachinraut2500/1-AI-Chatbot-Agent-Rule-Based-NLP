{
  "nbformat": 4,
  "nbformat_minor": 0,
  "metadata": {
    "colab": {
      "provenance": []
    },
    "kernelspec": {
      "name": "python3",
      "display_name": "Python 3"
    },
    "language_info": {
      "name": "python"
    }
  },
  "cells": [
    {
      "cell_type": "code",
      "execution_count": 4,
      "metadata": {
        "colab": {
          "base_uri": "https://localhost:8080/"
        },
        "id": "01tyQjJDl8Pv",
        "outputId": "14db134b-d6c2-4631-aa7d-9d2f205403d9"
      },
      "outputs": [
        {
          "output_type": "stream",
          "name": "stdout",
          "text": [
            "Welcome to AI Chatbot! Type 'quit' to exit.\n",
            "You: QUit\n",
            "Chatbot: Goodbye!\n"
          ]
        }
      ],
      "source": [
        "# Simple Rule-Based Chatbot with basic NLP\n",
        "\n",
        "import random\n",
        "import re\n",
        "\n",
        "# Define patterns and responses\n",
        "patterns = {\n",
        "    r'hi|hello|hey': ['Hello!', 'Hi there!', 'Hey! How can I help you?'],\n",
        "    r'how are you': ['I am a bot, but I am doing great!'],\n",
        "    r'what is your name': ['I am ChatBot AI.'],\n",
        "    r'help|support': ['Sure, I am here to help. What do you need?'],\n",
        "    r'thank you|thanks': ['You’re welcome!', 'No problem!'],\n",
        "    r'.*': ['Sorry, I didn’t get that. Can you rephrase?']\n",
        "}\n",
        "\n",
        "def chatbot_response(text):\n",
        "    text = text.lower()\n",
        "    for pattern, responses in patterns.items():\n",
        "        if re.search(pattern, text):\n",
        "            return random.choice(responses)\n",
        "    return \"Sorry, I don't understand.\"\n",
        "\n",
        "# Demo\n",
        "print(\"Welcome to AI Chatbot! Type 'quit' to exit.\")\n",
        "while True:\n",
        "    user_input = input(\"You: \")\n",
        "    if user_input.lower() == 'quit':\n",
        "        print(\"Chatbot: Goodbye!\")\n",
        "        break\n",
        "    print(\"Chatbot:\", chatbot_response(user_input))\n"
      ]
    }
  ]
}